{
 "cells": [
  {
   "cell_type": "code",
   "execution_count": 126,
   "metadata": {},
   "outputs": [],
   "source": [
    "from sklearn.feature_extraction.text import TfidfVectorizer\n",
    "from Sastrawi.Stemmer.StemmerFactory import StemmerFactory\n",
    "\n",
    "import re\n",
    "import tqdm\n",
    "import pandas as pd\n",
    "import numpy as np"
   ]
  },
  {
   "cell_type": "code",
   "execution_count": 127,
   "metadata": {},
   "outputs": [],
   "source": [
    "def load_stopwords(file):\n",
    "    return [line.rstrip('\\n\\r') for line in open(file)]\n",
    "\n",
    "def text_lower(text):\n",
    "  return text.lower()\n",
    "\n",
    "def remove_entities(text):\n",
    "  return re.sub(r'\\[[^]]*\\]', '', text)\n",
    "\n",
    "def case_folding(text):\n",
    "  return re.sub(r'[^a-z]', ' ', re.sub(\"'\", '', text))\n",
    "\n",
    "def stemming(text):\n",
    "  return stemmer.stem(text)\n",
    "\n",
    "def stopwords_removal(texts):\n",
    "  texts_token = texts.split()\n",
    "  not_stopword = []\n",
    "  for token in texts_token:\n",
    "    if token not in stopwords:\n",
    "      not_stopword.append(token)\n",
    "  return ' '.join(not_stopword)\n",
    "\n",
    "def preprocessing(text):\n",
    "  tx_lower = text_lower(text)\n",
    "  tx_remove_entities = remove_entities(tx_lower)\n",
    "  tx_case_folding = case_folding(tx_remove_entities)\n",
    "  tx_stemming = stemming(tx_case_folding)\n",
    "  tx_stopword = stopwords_removal(tx_stemming)\n",
    "  return tx_stopword"
   ]
  },
  {
   "cell_type": "code",
   "execution_count": 128,
   "metadata": {},
   "outputs": [],
   "source": [
    "factory = StemmerFactory()\n",
    "stemmer = factory.create_stemmer()\n",
    "stopwords = load_stopwords('../data_label/stopwords/stopword_list_TALA.txt')"
   ]
  },
  {
   "cell_type": "code",
   "execution_count": 129,
   "metadata": {},
   "outputs": [],
   "source": [
    "hadist_df = pd.read_csv('../trained/had_abudaud.csv')\n",
    "df_hadist_bukhari =pd.read_csv('../datasets/had_abudaud.csv',names=['L1','L2','Text'])"
   ]
  },
  {
   "cell_type": "code",
   "execution_count": 130,
   "metadata": {},
   "outputs": [],
   "source": [
    "vectorizer = TfidfVectorizer()"
   ]
  },
  {
   "cell_type": "code",
   "execution_count": 131,
   "metadata": {},
   "outputs": [],
   "source": [
    "X = vectorizer.fit_transform(hadist_df.Text)"
   ]
  },
  {
   "cell_type": "code",
   "execution_count": 132,
   "metadata": {},
   "outputs": [
    {
     "output_type": "execute_result",
     "data": {
      "text/plain": "['aabatil',\n 'aabiduuna',\n 'aadait',\n 'aafinii',\n 'aafiyata',\n 'aafiyatika',\n 'aaidzan',\n 'aajili',\n 'aajilihi',\n 'aajirnii']"
     },
     "metadata": {},
     "execution_count": 132
    }
   ],
   "source": [
    "vectorizer.get_feature_names()[:10]"
   ]
  },
  {
   "cell_type": "code",
   "execution_count": 133,
   "metadata": {},
   "outputs": [],
   "source": [
    "sentence = 'bagaimana cara bercerai ?'"
   ]
  },
  {
   "cell_type": "code",
   "execution_count": 134,
   "metadata": {},
   "outputs": [],
   "source": [
    "sent_prep = preprocessing(sentence)"
   ]
  },
  {
   "cell_type": "code",
   "execution_count": 135,
   "metadata": {},
   "outputs": [],
   "source": [
    "query = sent_prep.split()\n",
    "res = np.zeros(X.shape[0])\n",
    "not_in_corpus = []\n",
    "\n",
    "for keyword in query:\n",
    "    try:\n",
    "        res += X.toarray()[:,vectorizer.get_feature_names().index(keyword)]\n",
    "    except:\n",
    "        not_in_corpus,append(keyword)\n",
    "        res = np.zeros(X.shape[0])"
   ]
  },
  {
   "cell_type": "code",
   "execution_count": 136,
   "metadata": {},
   "outputs": [
    {
     "output_type": "execute_result",
     "data": {
      "text/plain": "[]"
     },
     "metadata": {},
     "execution_count": 136
    }
   ],
   "source": [
    "not_in_corpus"
   ]
  },
  {
   "cell_type": "code",
   "execution_count": 137,
   "metadata": {},
   "outputs": [
    {
     "output_type": "execute_result",
     "data": {
      "text/plain": "array([0., 0., 0., ..., 0., 0., 0.])"
     },
     "metadata": {},
     "execution_count": 137
    }
   ],
   "source": [
    "res"
   ]
  },
  {
   "cell_type": "code",
   "execution_count": 138,
   "metadata": {},
   "outputs": [
    {
     "output_type": "execute_result",
     "data": {
      "text/plain": "15.99952464084772"
     },
     "metadata": {},
     "execution_count": 138
    }
   ],
   "source": [
    "sum(res)"
   ]
  },
  {
   "cell_type": "code",
   "execution_count": 139,
   "metadata": {},
   "outputs": [
    {
     "output_type": "execute_result",
     "data": {
      "text/plain": "array([1340, 1391, 1336, 1812, 1337, 3819, 1346, 1334, 1347, 1335])"
     },
     "metadata": {},
     "execution_count": 139
    }
   ],
   "source": [
    "top_idx = np.argsort(-res)[:10]\n",
    "top_idx"
   ]
  },
  {
   "cell_type": "code",
   "execution_count": 140,
   "metadata": {},
   "outputs": [
    {
     "output_type": "stream",
     "name": "stdout",
     "text": "0.7479361991822463 Telah menceritakan kepada kami [Bisyr bin Hilal], bahwa [Ja'far Sulaiman], ia telah menceritakan kepada mereka dari [Yazid Ar Risyk], dari [Mutharrif bin Abdullah], bahwa [Imran bin Hushain] ditanya mengenai seorang laki-laki yang mencerai isterinya kemudian menggaulinya dan tidak mempersaksikan perceraiannya dan tidak pula pencabutan perceraiannya. Ia berkata; engkau mencerai tidak secara sunah dan kembali tidak secara sunah. Persaksikan atas perceraiannya dan ruju' (kembali kapadanya), dan jangan engkau ulang hal itu lagi! \n0.6854545489891136 Telah menceritakan kepada kami [Sulaiman bin Abdul Hamid Al Bahrani], telah menceritakan kepada kami [Yahya bin Shalih], telah menceritakan kepada kami [Isma'il bin 'Ayyasy], telah menceritakan kepadaku ['Amr bin Muhajir] dari [ayahnya] dari [Asma` binti Yazid bin As Sakan Al Anshariyyah] bahwa ia telah dicerai pada zaman Rasulullah shallallahu 'alaihi wasallam dan wanita yang dicerai tidak memiliki 'iddah, kemudian Allah 'azza wajalla menurunkan wahyu mengenai 'iddah karena perceraian ketika Asma` dicerai, ia adalah wanita pertama yang karenanya diturunkan ayat tentang 'iddah wanita yang dicerai. \n0.6158114255170971 Telah menceritakan kepada kami [Al Qa'nabi], dari [Malik] dari [Nafi'] dari [Abdullah bin Umar] bahwa ia telah menceraikan isterinya yang dalam keadaan haid pada zaman Rasulullah shallallahu wa'alaihi wa sallam. Kemudian Umar bin Al Khathab bertanya kepada Rasulullah shallallahu 'alaihi wasallam mengenai hal tersebut. Rasulullah shallallahu 'alaihi wasallam bersabda: \"Perintahkan dia agar kembali kepada isterinya kemudian menahannya (tidak menceraikannya) hingga suci, kemudian haid, kemudian suci, kemudian apabila menghendaki maka ia bisa menahannya setelah itu, dan apabila ia menghendaki maka ia boleh menceraikannya sebelum ia menggaulinya. Itulah iddah yang Allah perintahkan jika ingin mencerakan wanita (hendaknya pada kondisi tersebut).\" Telah menceritakan kepada kami [Qutaibah bin Sa'id], telah menceritakan kepada kami [Al Laits] dari [Nafi'] bahwa [Ibnu Umar] menceraikan isterinya yang sedang haid dengan satu kali cerai, sama dengan makna hadits Malik. \n0.5974766766577367 Telah menceritakan kepada kami [Musaddad] berkata, telah menceritakan kepada kami [Yahya] dari [Ibnu Abu Dzi`b] ia berkata; telah menceritakan kepadaku pamanku [Al Harits] dari [Hamzah bin Abdulllah bin Umar] dari [Bapaknya] ia berkata, \"Aku mempunyai seorang isteri yang sangat aku cintai, akan tetapi Umar tidak menyukainya. Lalu ia berkata kepadaku, \"Ceraikanlah ia.\" Tetapi aku menolaknya hingga ia datang menemui Nabi shallallahu 'alaihi wasallam dan menceritakan hal itu kepada beliau. Nabi shallallahu 'alaihi wasallam kemudian bersabda: \"Ceraikanlah ia.\"\n0.5602234728366904 Telah menceritakan kepada kami [Ahmad bin Shalih], telah menceritakan kepada kami ['Anbasah], telah menceritakan kepada kami [Yunus] dari [Ibnu Syihab], telah mengabarkan kepadaku [Salim bin Abdullah], dari [ayahnya], bahwa ia telah menceraikan isterinya yang sedang hamil, kemudian Umar menceritakan hal tersebut kepada Rasulullah shallallahu 'alaihi wasallam. Kemudian Rasulullah shallallahu 'alaihi wasallam marah dan berkata; perintahkan dia agar kembali kepadanya dan menahannya hingga suci, kemudian haid, kemudian suci, kemudian apabila ia berkehendak maka boleh ia menceraikannya dalam keadaan suci sebelum ia menggaulinya. Maka itulah perceraian pada 'iddahnya, sebagaimana yang diperintahkan Allah 'azza wajalla. \n0.5535266293795789 Telah menceritakan kepada kami [Utsman bin Abu Syaibah], telah menceritakan kepada kami [Waki'] dari [Sufyan] dari [Muhammad bin Abdurrahman] mantan budak keluarga Thalhah, dari [Salim] dari [Ibnu Umar], bahwa ia telah menceraikan isterinya yang sedang haid. Kemudian Umar menceritakan hal tersebut kepada Nabi shallallahu 'alaihi wasallam. Lalu Rasulullah shallallahu 'alaihi wasallam bersabda: \"Perintah dia agar kembali kepadanya, kemudian menceraikannya apabila ia telah suci atau dalam keadaan hamil.\"\n0.5518131552425974 Telah menceritakan kepada kami [Humaid bin Mas'adah], telah menceritakan kepada kami [Isma'il], telah mengabarkan kepada kami [Ayyub] dari [Abdullah bin Katsir] dari [Mujahid] ia berkata; aku pernah berada di sisi [Ibnu Abbas], kemudian terdaapat seorang laki-laki yang datang kepadanya. Lalu ia berkata bahwa ia telah mencerai isterinya sebanyak tiga kali. Mujahid berkata; kemudian ia terdiam hingga aku menyangka bahwa ia akan mengembalikan wanita tersebut kepadanya. Kemudian ia berkata; salah seorang diantara kalian pergi lalu melakukan perbuatan orang yang bodoh. Kemudian mengatakan; wahai Ibnu Abbas, wahai Ibnu Abbas! Sesungguhnya Allah telah berfirman: \"Barangsiapa yang bertakwa kepada Allah, maka Dia memberikan baginya jalan keluar.\" Sementara engkau tidak bertakwa kepada Allah, maka aku tidak mendapatkan bagimu jalan keluar. Engkau telah bermaksiat kepada Tuhanmu dan isterimu telah terceraikan sama sekali. Dan sesungguhnya Allah telah berfirman: \"Wahai nabi, apabila kalian menceraikan isteri-isteri kalian maka ceraikanlah mereka pada waktu disambutnya masa 'Iddah mereka.\" Abu Daud berkata; hadits ini diriwayatkan oleh [Humaid Al A'raj] dan yang lainnya dari [Mujahid] dari [Ibnu Abbas] dan telah diriwayatkan oleh [Syu'bah] dari ['Amr bin Murrah] dari [Sa'id bin Jubair] dari [Ibnu Abbas], [Ayyub] dan [Ibnu Juraij], seluruhnya dari [Ikrimah bin Khalid] dari [Sa'id bin Jubair] dari [Ibnu Abbas] dan [Ibnu Juraij] dari [Abdul Hamid bin Rafi'] dari ['Atho`] dari [Ibnu Abbas] dan telah diriwayatkan oleh [Al A'masy] dari [Malik bin Al Harits] dari [Ibnu Abbas] dan [Ibnu Juraij] dari ['Amr bin Dinar] dari [Ibnu Abbas], mereka semua mengatakan mengenai talak tiga kali bahwa ia telah memperbolehkannya. Ia berkata; dan ia telah tercerai sama sekali darimu seperti hadits Isma'il dari Ayyub dari Abdullah bin Katsir. Abu Daud berkata; dan [Hammad bin Zaid] telah meriwayatkan dari [Ayyub] dari [Ikrimah] dari [Ibnu Abbas] apabila mengucapkan; engkau dicerai tiga kali, dengan satu kali ucapan maka hal tersebut adalah satu satu kali talak. Dan [Isma'il bin Ibrahim] telah meriwayatkan dari [Ayyub] dari [Ikrimah], ini adalah perkataannya, ia tidak menyebutkan Ibnu Abbas dan ia menjadikan perkataan tersebut sebagai perkataan Ikrimah.\n0.536933766866451 Telah menceritakan kepada kami [Ahmad bin Yunus], telah menceritakan kepada kami [Mu'arrif] dari [Muharib], ia berkata; Rasulullah shallallahu 'alaihi wasallam bersabda: \"Tidaklah Allah menghalalkan sesuatu yang lebih Dia benci daripada perceraian.\"\n0.520295358153661 Telah menceritakan kepada kami [Muhammad bin Abdul Malik bin Marwan], telah menceritakan kepada kami [Abu An Nu'man], telah menceritakan kepada kami [Hammad bin Zaid] dari [Ayyub] dari [lebih dari satu orang] dari [Thawus] bahwa [seorang laki-laki yang dipanggil Abu Ash Shahba`] adalah orang yang sering bertanya kepada [Ibnu Abbas], ia berkata; tidakkah engkau mengetahui bahwa seseorang apabila mencerai isterinya tiga kali sebelum menggaulinya mereka menganggapnya satu kali perceraian pada zaman Rasulullah shallallahu 'alaihi wasallam, Abu Bakr, dan permulaan kepemimpinan Umar? Ibnu Abbas berkata; benar, dahulu seorang laki-laki apabila menceraikan isterinya tiga kali sebelum ia menggaulinya mereka menganggapnya satu kali pada zaman Rasulullah shallallahu 'alaihi wasallam, Abu Bakr dan permulaan kepemimpinan Umar, kemudian tatkala orang-orang melihat sering melakukan hal tersebut maka Umar berkata; terapkan tiga perceraian atas mereka.\n0.480431354415173 Telah menceritakan kepada kami [Katsir bin 'Ubaid], telah menceritakan kepada kami [Muhammad bin Khalid] dari [Mu'arrif bin Washil] dari [Muharib bin Ditsar] dari [Ibnu Abbas] dari Nabi shallallahu 'alaihi wasallam beliau bersabda: \"Perkara halal yang paling Allah benci adalah perceraian.\"\n"
    }
   ],
   "source": [
    "valid = False\n",
    "if sum(res)>0:\n",
    "    valid = True\n",
    "\n",
    "if valid:\n",
    "    for i in range(len(top_idx)):\n",
    "        print(res[top_idx[i]], df_hadist_bukhari.iloc[top_idx[i]][2])\n",
    "else:\n",
    "    print('dindt match, someting wrong')"
   ]
  }
 ],
 "metadata": {
  "language_info": {
   "codemirror_mode": {
    "name": "ipython",
    "version": 3
   },
   "file_extension": ".py",
   "mimetype": "text/x-python",
   "name": "python",
   "nbconvert_exporter": "python",
   "pygments_lexer": "ipython3",
   "version": "3.7.3-final"
  },
  "orig_nbformat": 2,
  "kernelspec": {
   "name": "python37364bitvenvvenvdf8e6e473d9447a3901856c970597e1d",
   "display_name": "Python 3.7.3 64-bit ('venv': venv)"
  }
 },
 "nbformat": 4,
 "nbformat_minor": 2
}