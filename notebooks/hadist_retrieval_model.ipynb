{
 "cells": [
  {
   "cell_type": "code",
   "execution_count": null,
   "metadata": {},
   "outputs": [],
   "source": [
    "from sklearn.feature_extraction.text import TfidfVectorizer\n",
    "from Sastrawi.Stemmer.StemmerFactory import StemmerFactory\n",
    "\n",
    "import re\n",
    "import tqdm\n",
    "import pandas as pd\n",
    "import numpy as np"
   ]
  },
  {
   "cell_type": "code",
   "execution_count": null,
   "metadata": {},
   "outputs": [],
   "source": [
    "def load_stopwords(file):\n",
    "    return [line.rstrip('\\n\\r') for line in open(file)]\n",
    "\n",
    "def text_lower(text):\n",
    "  return text.lower()\n",
    "\n",
    "def remove_entities(text):\n",
    "  return re.sub(r'\\[[^]]*\\]', '', text)\n",
    "\n",
    "def case_folding(text):\n",
    "  return re.sub(r'[^a-z]', ' ', re.sub(\"'\", '', text))\n",
    "\n",
    "def stemming(text):\n",
    "  return stemmer.stem(text)\n",
    "\n",
    "def stopwords_removal(texts, stopwords):\n",
    "  texts_token = texts.split()\n",
    "  not_stopword = []\n",
    "  for token in texts_token:\n",
    "    if token not in stopwords:\n",
    "      not_stopword.append(token)\n",
    "  return ' '.join(not_stopword)\n",
    "\n",
    "def preprocessing(text, stopwords):\n",
    "  tx_lower = text_lower(text)\n",
    "  tx_remove_entities = remove_entities(tx_lower)\n",
    "  tx_case_folding = case_folding(tx_remove_entities)\n",
    "  tx_stemming = stemming(tx_case_folding)\n",
    "  tx_stopword = stopwords_removal(tx_stemming, stopwords)\n",
    "  return tx_stopword"
   ]
  },
  {
   "cell_type": "code",
   "execution_count": null,
   "metadata": {},
   "outputs": [],
   "source": [
    "# factory = StemmerFactory()\n",
    "# stemmer = factory.create_stemmer()\n",
    "stopwords = load_stopwords('../data_label/stopwords/stopword_list_TALA.txt')"
   ]
  },
  {
   "cell_type": "code",
   "execution_count": null,
   "metadata": {},
   "outputs": [],
   "source": [
    "hadist_df = pd.read_csv('../trained/had_abudaud.csv')\n",
    "df_hadist_bukhari =pd.read_csv('../datasets/had_abudaud.csv',names=['L1','L2','Text'])"
   ]
  },
  {
   "cell_type": "code",
   "execution_count": null,
   "metadata": {},
   "outputs": [],
   "source": [
    "vectorizer = TfidfVectorizer()"
   ]
  },
  {
   "cell_type": "code",
   "execution_count": null,
   "metadata": {},
   "outputs": [],
   "source": [
    "X = vectorizer.fit_transform(hadist_df.Text)"
   ]
  },
  {
   "cell_type": "code",
   "execution_count": null,
   "metadata": {},
   "outputs": [],
   "source": [
    "vectorizer.get_feature_names()[:10]"
   ]
  },
  {
   "cell_type": "code",
   "execution_count": null,
   "metadata": {},
   "outputs": [],
   "source": [
    "sentence = 'bagaimana cara bercerai ?'"
   ]
  },
  {
   "cell_type": "code",
   "execution_count": null,
   "metadata": {},
   "outputs": [],
   "source": [
    "sent_prep = preprocessing(sentence, stopwords)"
   ]
  },
  {
   "cell_type": "code",
   "execution_count": null,
   "metadata": {},
   "outputs": [],
   "source": [
    "query = sent_prep.split()\n",
    "res = np.zeros(X.shape[0])\n",
    "not_in_corpus = []\n",
    "\n",
    "for keyword in query:\n",
    "    try:\n",
    "        res += X.toarray()[:,vectorizer.get_feature_names().index(keyword)]\n",
    "    except:\n",
    "        not_in_corpus.append(keyword)\n",
    "        res = np.zeros(X.shape[0])"
   ]
  },
  {
   "cell_type": "code",
   "execution_count": null,
   "metadata": {},
   "outputs": [],
   "source": [
    "not_in_corpus"
   ]
  },
  {
   "cell_type": "code",
   "execution_count": null,
   "metadata": {},
   "outputs": [],
   "source": [
    "res"
   ]
  },
  {
   "cell_type": "code",
   "execution_count": null,
   "metadata": {},
   "outputs": [],
   "source": [
    "sum(res)"
   ]
  },
  {
   "cell_type": "code",
   "execution_count": null,
   "metadata": {},
   "outputs": [],
   "source": [
    "top_idx = np.argsort(-res)[:10]\n",
    "top_idx"
   ]
  },
  {
   "cell_type": "code",
   "execution_count": null,
   "metadata": {},
   "outputs": [],
   "source": [
    "valid = False\n",
    "if sum(res)>0:\n",
    "    valid = True\n",
    "\n",
    "if valid:\n",
    "    for i in range(len(top_idx)):\n",
    "        print(res[top_idx[i]], df_hadist_bukhari.iloc[top_idx[i]][2])\n",
    "else:\n",
    "    print('dindt match, someting wrong')"
   ]
  }
 ],
 "metadata": {
  "language_info": {
   "codemirror_mode": {
    "name": "ipython",
    "version": 3
   },
   "file_extension": ".py",
   "mimetype": "text/x-python",
   "name": "python",
   "nbconvert_exporter": "python",
   "pygments_lexer": "ipython3",
   "version": "3.7.3-final"
  },
  "orig_nbformat": 2,
  "kernelspec": {
   "name": "python37364bitvenvvenvdf8e6e473d9447a3901856c970597e1d",
   "display_name": "Python 3.7.3 64-bit ('venv': venv)"
  }
 },
 "nbformat": 4,
 "nbformat_minor": 2
}