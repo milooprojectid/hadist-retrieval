{
 "cells": [
  {
   "cell_type": "code",
   "execution_count": 111,
   "metadata": {},
   "outputs": [],
   "source": [
    "from sklearn.feature_extraction.text import TfidfVectorizer\n",
    "from Sastrawi.Stemmer.StemmerFactory import StemmerFactory\n",
    "\n",
    "import re\n",
    "import tqdm\n",
    "import pandas as pd\n",
    "import numpy as np"
   ]
  },
  {
   "cell_type": "code",
   "execution_count": 112,
   "metadata": {},
   "outputs": [],
   "source": [
    "def load_stopwords(file):\n",
    "    return [line.rstrip('\\n\\r') for line in open(file)]\n",
    "\n",
    "def text_lower(text):\n",
    "  return text.lower()\n",
    "\n",
    "def remove_entities(text):\n",
    "  return re.sub(r'\\[[^]]*\\]', '', text)\n",
    "\n",
    "def case_folding(text):\n",
    "  return re.sub(r'[^a-z]', ' ', re.sub(\"'\", '', text))\n",
    "\n",
    "def stemming(text):\n",
    "  return stemmer.stem(text)\n",
    "\n",
    "def stopwords_removal(texts):\n",
    "  texts_token = texts.split()\n",
    "  not_stopword = []\n",
    "  for token in texts_token:\n",
    "    if token not in stopwords:\n",
    "      not_stopword.append(token)\n",
    "  return ' '.join(not_stopword)\n",
    "\n",
    "def preprocessing(text):\n",
    "  tx_lower = text_lower(text)\n",
    "  tx_remove_entities = remove_entities(tx_lower)\n",
    "  tx_case_folding = case_folding(tx_remove_entities)\n",
    "  tx_stemming = stemming(tx_case_folding)\n",
    "  tx_stopword = stopwords_removal(tx_stemming)\n",
    "  return tx_stopword"
   ]
  },
  {
   "cell_type": "code",
   "execution_count": 113,
   "metadata": {},
   "outputs": [],
   "source": [
    "factory = StemmerFactory()\n",
    "stemmer = factory.create_stemmer()\n",
    "stopwords = load_stopwords('../data_label/stopwords/stopword_list_TALA.txt')"
   ]
  },
  {
   "cell_type": "code",
   "execution_count": 114,
   "metadata": {},
   "outputs": [],
   "source": [
    "hadist_df = pd.read_csv('../trained/had_abudaud.csv')\n",
    "df_hadist_bukhari =pd.read_csv('../datasets/had_abudaud.csv',names=['L1','L2','Text'])"
   ]
  },
  {
   "cell_type": "code",
   "execution_count": 115,
   "metadata": {},
   "outputs": [],
   "source": [
    "vectorizer = TfidfVectorizer()"
   ]
  },
  {
   "cell_type": "code",
   "execution_count": 116,
   "metadata": {},
   "outputs": [],
   "source": [
    "X = vectorizer.fit_transform(hadist_df.Text)"
   ]
  },
  {
   "cell_type": "code",
   "execution_count": 117,
   "metadata": {},
   "outputs": [
    {
     "output_type": "execute_result",
     "data": {
      "text/plain": "['aabatil',\n 'aabiduuna',\n 'aadait',\n 'aafinii',\n 'aafiyata',\n 'aafiyatika',\n 'aaidzan',\n 'aajili',\n 'aajilihi',\n 'aajirnii']"
     },
     "metadata": {},
     "execution_count": 117
    }
   ],
   "source": [
    "vectorizer.get_feature_names()[:10]"
   ]
  },
  {
   "cell_type": "code",
   "execution_count": 118,
   "metadata": {},
   "outputs": [],
   "source": [
    "sentence = 'bagaimana cara bercerai ?'"
   ]
  },
  {
   "cell_type": "code",
   "execution_count": 119,
   "metadata": {},
   "outputs": [],
   "source": [
    "sent_prep = preprocessing(sentence)"
   ]
  },
  {
   "cell_type": "code",
   "execution_count": 120,
   "metadata": {},
   "outputs": [],
   "source": [
    "query = sent_prep.split()\n",
    "res = np.zeros(X.shape[0])\n",
    "not_in_corpus = []\n",
    "\n",
    "for keyword in query:\n",
    "    try:\n",
    "        res += X.toarray()[:,vectorizer.get_feature_names().index(keyword)]\n",
    "    except:\n",
    "        not_in_corpus,append(keyword)\n",
    "        res = np.zeros(X.shape[0])"
   ]
  },
  {
   "cell_type": "code",
   "execution_count": 121,
   "metadata": {},
   "outputs": [
    {
     "output_type": "execute_result",
     "data": {
      "text/plain": "[]"
     },
     "metadata": {},
     "execution_count": 121
    }
   ],
   "source": [
    "not_in_corpus"
   ]
  },
  {
   "cell_type": "code",
   "execution_count": 122,
   "metadata": {},
   "outputs": [
    {
     "output_type": "execute_result",
     "data": {
      "text/plain": "array([0., 0., 0., ..., 0., 0., 0.])"
     },
     "metadata": {},
     "execution_count": 122
    }
   ],
   "source": [
    "res"
   ]
  },
  {
   "cell_type": "code",
   "execution_count": 123,
   "metadata": {},
   "outputs": [
    {
     "output_type": "execute_result",
     "data": {
      "text/plain": "15.99952464084772"
     },
     "metadata": {},
     "execution_count": 123
    }
   ],
   "source": [
    "sum(res)"
   ]
  },
  {
   "cell_type": "code",
   "execution_count": 124,
   "metadata": {},
   "outputs": [
    {
     "output_type": "execute_result",
     "data": {
      "text/plain": "array([1340, 1391, 1336, 1812, 1337, 3819, 1346, 1334, 1347, 1335])"
     },
     "metadata": {},
     "execution_count": 124
    }
   ],
   "source": [
    "top_idx = np.argsort(-res)[:10]\n",
    "top_idx"
   ]
  },
  {
   "cell_type": "code",
   "execution_count": 125,
   "metadata": {},
   "outputs": [
    {
     "output_type": "error",
     "ename": "NameError",
     "evalue": "name 'df_hadist_bukhari' is not defined",
     "traceback": [
      "\u001b[0;31m---------------------------------------------------------------------------\u001b[0m",
      "\u001b[0;31mNameError\u001b[0m                                 Traceback (most recent call last)",
      "\u001b[0;32m<ipython-input-125-767233e0684c>\u001b[0m in \u001b[0;36m<module>\u001b[0;34m\u001b[0m\n\u001b[1;32m      5\u001b[0m \u001b[0;32mif\u001b[0m \u001b[0mvalid\u001b[0m\u001b[0;34m:\u001b[0m\u001b[0;34m\u001b[0m\u001b[0;34m\u001b[0m\u001b[0m\n\u001b[1;32m      6\u001b[0m     \u001b[0;32mfor\u001b[0m \u001b[0mi\u001b[0m \u001b[0;32min\u001b[0m \u001b[0mrange\u001b[0m\u001b[0;34m(\u001b[0m\u001b[0mlen\u001b[0m\u001b[0;34m(\u001b[0m\u001b[0mtop_idx\u001b[0m\u001b[0;34m)\u001b[0m\u001b[0;34m)\u001b[0m\u001b[0;34m:\u001b[0m\u001b[0;34m\u001b[0m\u001b[0;34m\u001b[0m\u001b[0m\n\u001b[0;32m----> 7\u001b[0;31m         \u001b[0mprint\u001b[0m\u001b[0;34m(\u001b[0m\u001b[0mres\u001b[0m\u001b[0;34m[\u001b[0m\u001b[0mtop_idx\u001b[0m\u001b[0;34m[\u001b[0m\u001b[0mi\u001b[0m\u001b[0;34m]\u001b[0m\u001b[0;34m]\u001b[0m\u001b[0;34m,\u001b[0m \u001b[0mdf_hadist_bukhari\u001b[0m\u001b[0;34m.\u001b[0m\u001b[0miloc\u001b[0m\u001b[0;34m[\u001b[0m\u001b[0mtop_idx\u001b[0m\u001b[0;34m[\u001b[0m\u001b[0mi\u001b[0m\u001b[0;34m]\u001b[0m\u001b[0;34m]\u001b[0m\u001b[0;34m[\u001b[0m\u001b[0;36m2\u001b[0m\u001b[0;34m]\u001b[0m\u001b[0;34m)\u001b[0m\u001b[0;34m\u001b[0m\u001b[0;34m\u001b[0m\u001b[0m\n\u001b[0m\u001b[1;32m      8\u001b[0m \u001b[0;32melse\u001b[0m\u001b[0;34m:\u001b[0m\u001b[0;34m\u001b[0m\u001b[0;34m\u001b[0m\u001b[0m\n\u001b[1;32m      9\u001b[0m     \u001b[0mprint\u001b[0m\u001b[0;34m(\u001b[0m\u001b[0;34m'dindt match, someting wrong'\u001b[0m\u001b[0;34m)\u001b[0m\u001b[0;34m\u001b[0m\u001b[0;34m\u001b[0m\u001b[0m\n",
      "\u001b[0;31mNameError\u001b[0m: name 'df_hadist_bukhari' is not defined"
     ]
    }
   ],
   "source": [
    "valid = False\n",
    "if sum(res)>0:\n",
    "    valid = True\n",
    "\n",
    "if valid:\n",
    "    for i in range(len(top_idx)):\n",
    "        print(res[top_idx[i]], df_hadist_bukhari.iloc[top_idx[i]][2])\n",
    "else:\n",
    "    print('dindt match, someting wrong')"
   ]
  }
 ],
 "metadata": {
  "language_info": {
   "codemirror_mode": {
    "name": "ipython",
    "version": 3
   },
   "file_extension": ".py",
   "mimetype": "text/x-python",
   "name": "python",
   "nbconvert_exporter": "python",
   "pygments_lexer": "ipython3",
   "version": "3.7.3-final"
  },
  "orig_nbformat": 2,
  "kernelspec": {
   "name": "python37364bitvenvvenvdf8e6e473d9447a3901856c970597e1d",
   "display_name": "Python 3.7.3 64-bit ('venv': venv)"
  }
 },
 "nbformat": 4,
 "nbformat_minor": 2
}